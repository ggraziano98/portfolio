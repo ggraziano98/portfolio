{
 "cells": [
  {
   "cell_type": "markdown",
   "metadata": {},
   "source": [
    "# PokerOdds Calculator\n",
    "This is a small project that focuses on creating and optimizing an algorithm that calculates poker odds. The odds are calculated by running a Monte Carlo simulation and storing the results. The code can be further optimized by compiling it with cython, but at the moment is very pythonic so it would need some revision. The algorithm seems fairly accurate when compared to simulations ran using EquiLab, but it is quite a bit slower. \n",
    "\n",
    "To be implemented: \n",
    "- visualizing results\n",
    "- cython optimization\n",
    "- parallel"
   ]
  },
  {
   "cell_type": "code",
   "execution_count": 76,
   "metadata": {},
   "outputs": [],
   "source": [
    "import time\n",
    "from IPython.display import clear_output\n",
    "import numpy as np\n",
    "import matplotlib.pyplot as plt\n",
    "import matplotlib\n",
    "\n",
    "from functions import parse, simulate\n",
    "from const import CARDTABLE, CARDVALUES\n",
    "cardtable = np.array(CARDTABLE)"
   ]
  },
  {
   "cell_type": "code",
   "execution_count": 53,
   "metadata": {},
   "outputs": [],
   "source": [
    "def print_results(hand, board, n_runs):\n",
    "    w, l, t, w_against= simulate(hand, board, n_runs=n_runs)\n",
    "\n",
    "    print(f'{t} runs: {w} wins, {l} losses\\n'\n",
    "          f'Win: {w/t*100:.2f}%  -  Lose: {l/t*100:.2f}%  -  Tie: {(t-w-l)/t*100:.2f}%\\n')\n",
    "    return w_against"
   ]
  },
  {
   "cell_type": "code",
   "execution_count": 54,
   "metadata": {},
   "outputs": [
    {
     "output_type": "execute_result",
     "data": {
      "text/plain": "[(AS, AH), (JS, 10S), (8S, 8H), (KH, 5S), (AS, 2S), (3S, 3H)]"
     },
     "metadata": {},
     "execution_count": 54
    }
   ],
   "source": [
    "test_cards = 'aS aH,js 10s,8s 8h,kh 5s,as 2s,3s 3h'.split(',')\n",
    "test_cards = [parse(x) for x in test_cards]\n",
    "n_runs = 10000\n",
    "test_cards"
   ]
  },
  {
   "cell_type": "code",
   "execution_count": 55,
   "metadata": {},
   "outputs": [
    {
     "output_type": "execute_result",
     "data": {
      "text/plain": "[(), (AD, KD, 10D), (3D, 4H, 5D), (10D, 10C, 2C, 7C, KD)]"
     },
     "metadata": {},
     "execution_count": 55
    }
   ],
   "source": [
    "test_boards = ['', 'ad kd 10d', '3d 4h 5d', '10d 10c 2c 7c kd']\n",
    "test_boards = [parse(x) for x in test_boards]\n",
    "test_boards"
   ]
  },
  {
   "cell_type": "code",
   "execution_count": 5,
   "metadata": {},
   "outputs": [
    {
     "output_type": "stream",
     "name": "stdout",
     "text": "\n---------------\nSimulating hand: (3S, 3H)\tBoard: ()\n\n10000 runs: 5324 wins, 4616 losses\nWin: 53.24%  -  Lose: 46.16%  -  Tie: 0.60%\n\nTime taken: 3.42 s\n\n---------------\nSimulating hand: (3S, 3H)\tBoard: (AD, KD, 10D)\n\n10000 runs: 3571 wins, 6050 losses\nWin: 35.71%  -  Lose: 60.50%  -  Tie: 3.79%\n\nTime taken: 3.28 s\n\n---------------\nSimulating hand: (3S, 3H)\tBoard: (3D, 4H, 5D)\n\n10000 runs: 8051 wins, 1630 losses\nWin: 80.51%  -  Lose: 16.30%  -  Tie: 3.19%\n\nTime taken: 3.22 s\n\n---------------\nSimulating hand: (3S, 3H)\tBoard: (10D, 10C, 2C, 7C, KD)\n\n10000 runs: 5994 wins, 3996 losses\nWin: 59.94%  -  Lose: 39.96%  -  Tie: 0.10%\n\nTime taken: 3.13 s\n24 total runs, 10000 simulations.\nTotal time: 86.82\tAverage time: 3.62 s\n"
    }
   ],
   "source": [
    "start_time = time.time()\n",
    "i = 0\n",
    "for h in test_cards:\n",
    "    for b in test_boards:\n",
    "        if(i%len(test_boards)==0): clear_output()\n",
    "        i +=1\n",
    "        it_time = time.time()\n",
    "        print(f'\\n---------------\\nSimulating hand: {h}\\tBoard: {b}\\n')\n",
    "        print_results(h, b, n_runs)\n",
    "        print(f'Time taken: {time.time()-it_time:.2f} s')\n",
    "\n",
    "tot_time = time.time() - start_time\n",
    "tot_runs = len(test_cards)*len(test_boards)\n",
    "print(f'{tot_runs} total runs, {n_runs} simulations.\\nTotal time: {tot_time:.2f}\\tAverage time: {tot_time/tot_runs:.2f} s')"
   ]
  },
  {
   "cell_type": "code",
   "execution_count": 77,
   "metadata": {},
   "outputs": [],
   "source": [
    "def classify_cards(hand):\n",
    "    suits = {s for f, s in hand}\n",
    "    suits = 's' if len(suits) == 1  else 'o'\n",
    "    faces = sorted([f for f,s in hand],  key=lambda c: CARDVALUES[c], )\n",
    "    if faces[0] == faces[1]:\n",
    "        return ' '.join(faces)\n",
    "    else: return ' '.join(faces) + suits"
   ]
  },
  {
   "cell_type": "code",
   "execution_count": 78,
   "metadata": {},
   "outputs": [
    {
     "output_type": "stream",
     "name": "stdout",
     "text": "a a\n10 js\n8 8\n5 ko\n2 as\n3 3\n"
    }
   ],
   "source": [
    "#test\n",
    "for h in test_cards:\n",
    "    print(classify_cards(h))"
   ]
  },
  {
   "cell_type": "code",
   "execution_count": 79,
   "metadata": {},
   "outputs": [],
   "source": [
    "# sphinx_gallery_thumbnail_number = 2\n",
    "def heatmap(labels, data):\n",
    "    fig, ax = plt.subplots(figsize=(12,12))\n",
    "    ax.set_xticks([])\n",
    "    ax.set_yticks([])\n",
    "    im = ax.imshow(data)\n",
    "    for i in range(data.shape[0]):\n",
    "        for j in range(data.shape[1]):\n",
    "            im.axes.text(j, i, labels[i, j], color='white', horizontalalignment='center', verticalalignment='center')\n",
    "    fig.tight_layout()\n",
    "    plt.show()"
   ]
  },
  {
   "cell_type": "code",
   "execution_count": 80,
   "metadata": {},
   "outputs": [],
   "source": [
    "def visualize_results(h, b, n_runs):\n",
    "    w_against = simulate(h, b, n_runs)[3]\n",
    "    w_cats = [classify_cards(h) for h in w_against]\n",
    "    print(w_cats)\n",
    "    # data = np.zeros(cardtable.shape)\n",
    "    # for it in np.nditer(a, flags=['multi_index']):\n",
    "    #     data[it.index] = w_cats.count(x)\n",
    "    #     print(data[it.index])"
   ]
  },
  {
   "cell_type": "code",
   "execution_count": 81,
   "metadata": {},
   "outputs": [
    {
     "output_type": "stream",
     "name": "stdout",
     "text": "['5 9s', '2 ko', '3 4o', 'j qo', '4 9o', '3 qo', '4 10o']\n"
    }
   ],
   "source": [
    "visualize_results(test_cards[0], (), 10)"
   ]
  },
  {
   "cell_type": "code",
   "execution_count": null,
   "metadata": {},
   "outputs": [],
   "source": []
  }
 ],
 "metadata": {
  "language_info": {
   "codemirror_mode": {
    "name": "ipython",
    "version": 3
   },
   "file_extension": ".py",
   "mimetype": "text/x-python",
   "name": "python",
   "nbconvert_exporter": "python",
   "pygments_lexer": "ipython3",
   "version": "3.7.2-final"
  },
  "orig_nbformat": 2,
  "kernelspec": {
   "name": "python37764bitstepscondaec00f1f45a1e43dda8d1e997be338666",
   "display_name": "Python 3.7.7 64-bit ('steps': conda)"
  }
 },
 "nbformat": 4,
 "nbformat_minor": 2
}